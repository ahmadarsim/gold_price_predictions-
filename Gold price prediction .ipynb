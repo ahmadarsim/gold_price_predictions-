{
 "cells": [
  {
   "cell_type": "code",
   "execution_count": 1,
   "id": "ff88de1f",
   "metadata": {},
   "outputs": [],
   "source": [
    "import numpy as np \n",
    "import pandas as pd\n"
   ]
  },
  {
   "cell_type": "code",
   "execution_count": 2,
   "id": "dfefd249",
   "metadata": {},
   "outputs": [],
   "source": [
    "data= pd.read_csv('C:/Users/User/Desktop/Gold_price/simple_gold_price/gld_price_data.csv')"
   ]
  },
  {
   "cell_type": "code",
   "execution_count": 3,
   "id": "70da1f8c",
   "metadata": {},
   "outputs": [
    {
     "data": {
      "text/html": [
       "<div>\n",
       "<style scoped>\n",
       "    .dataframe tbody tr th:only-of-type {\n",
       "        vertical-align: middle;\n",
       "    }\n",
       "\n",
       "    .dataframe tbody tr th {\n",
       "        vertical-align: top;\n",
       "    }\n",
       "\n",
       "    .dataframe thead th {\n",
       "        text-align: right;\n",
       "    }\n",
       "</style>\n",
       "<table border=\"1\" class=\"dataframe\">\n",
       "  <thead>\n",
       "    <tr style=\"text-align: right;\">\n",
       "      <th></th>\n",
       "      <th>Date</th>\n",
       "      <th>SPX</th>\n",
       "      <th>GLD</th>\n",
       "      <th>USO</th>\n",
       "      <th>SLV</th>\n",
       "      <th>EUR/USD</th>\n",
       "    </tr>\n",
       "  </thead>\n",
       "  <tbody>\n",
       "    <tr>\n",
       "      <th>0</th>\n",
       "      <td>1/2/2008</td>\n",
       "      <td>1447.160034</td>\n",
       "      <td>84.860001</td>\n",
       "      <td>78.470001</td>\n",
       "      <td>15.180</td>\n",
       "      <td>1.471692</td>\n",
       "    </tr>\n",
       "    <tr>\n",
       "      <th>1</th>\n",
       "      <td>1/3/2008</td>\n",
       "      <td>1447.160034</td>\n",
       "      <td>85.570000</td>\n",
       "      <td>78.370003</td>\n",
       "      <td>15.285</td>\n",
       "      <td>1.474491</td>\n",
       "    </tr>\n",
       "    <tr>\n",
       "      <th>2</th>\n",
       "      <td>1/4/2008</td>\n",
       "      <td>1411.630005</td>\n",
       "      <td>85.129997</td>\n",
       "      <td>77.309998</td>\n",
       "      <td>15.167</td>\n",
       "      <td>1.475492</td>\n",
       "    </tr>\n",
       "    <tr>\n",
       "      <th>3</th>\n",
       "      <td>1/7/2008</td>\n",
       "      <td>1416.180054</td>\n",
       "      <td>84.769997</td>\n",
       "      <td>75.500000</td>\n",
       "      <td>15.053</td>\n",
       "      <td>1.468299</td>\n",
       "    </tr>\n",
       "    <tr>\n",
       "      <th>4</th>\n",
       "      <td>1/8/2008</td>\n",
       "      <td>1390.189941</td>\n",
       "      <td>86.779999</td>\n",
       "      <td>76.059998</td>\n",
       "      <td>15.590</td>\n",
       "      <td>1.557099</td>\n",
       "    </tr>\n",
       "  </tbody>\n",
       "</table>\n",
       "</div>"
      ],
      "text/plain": [
       "       Date          SPX        GLD        USO     SLV   EUR/USD\n",
       "0  1/2/2008  1447.160034  84.860001  78.470001  15.180  1.471692\n",
       "1  1/3/2008  1447.160034  85.570000  78.370003  15.285  1.474491\n",
       "2  1/4/2008  1411.630005  85.129997  77.309998  15.167  1.475492\n",
       "3  1/7/2008  1416.180054  84.769997  75.500000  15.053  1.468299\n",
       "4  1/8/2008  1390.189941  86.779999  76.059998  15.590  1.557099"
      ]
     },
     "execution_count": 3,
     "metadata": {},
     "output_type": "execute_result"
    }
   ],
   "source": [
    "data.head()"
   ]
  },
  {
   "cell_type": "markdown",
   "id": "516ece36",
   "metadata": {},
   "source": [
    "### Data Dictionary"
   ]
  },
  {
   "cell_type": "raw",
   "id": "425cc8b0",
   "metadata": {},
   "source": [
    "\n",
    "Date - mm/dd/yyyy\n",
    "\n",
    "SPX - is a free-float weighted measurement stock market index of the 500 largest companies listed on stock exchanges in the United States.\n",
    "\n",
    "GLD - Gold Price\n",
    "\n",
    "USO - United States Oil Fund - Not Sure of UOM\n",
    "\n",
    "SLV - Silver Price\n",
    "\n",
    "EUR/USD - currency pair quotation of the Euro against the USD"
   ]
  },
  {
   "cell_type": "markdown",
   "id": "c841808b",
   "metadata": {},
   "source": [
    "## EDA"
   ]
  },
  {
   "cell_type": "code",
   "execution_count": 4,
   "id": "ab726f15",
   "metadata": {},
   "outputs": [
    {
     "data": {
      "text/plain": [
       "(2290, 6)"
      ]
     },
     "execution_count": 4,
     "metadata": {},
     "output_type": "execute_result"
    }
   ],
   "source": [
    "data.shape"
   ]
  },
  {
   "cell_type": "code",
   "execution_count": 5,
   "id": "8052a607",
   "metadata": {},
   "outputs": [
    {
     "name": "stdout",
     "output_type": "stream",
     "text": [
      "<class 'pandas.core.frame.DataFrame'>\n",
      "RangeIndex: 2290 entries, 0 to 2289\n",
      "Data columns (total 6 columns):\n",
      " #   Column   Non-Null Count  Dtype  \n",
      "---  ------   --------------  -----  \n",
      " 0   Date     2290 non-null   object \n",
      " 1   SPX      2290 non-null   float64\n",
      " 2   GLD      2290 non-null   float64\n",
      " 3   USO      2290 non-null   float64\n",
      " 4   SLV      2290 non-null   float64\n",
      " 5   EUR/USD  2290 non-null   float64\n",
      "dtypes: float64(5), object(1)\n",
      "memory usage: 107.5+ KB\n"
     ]
    }
   ],
   "source": [
    "data.info()"
   ]
  },
  {
   "cell_type": "code",
   "execution_count": 6,
   "id": "f0688f10",
   "metadata": {},
   "outputs": [
    {
     "data": {
      "text/html": [
       "<div>\n",
       "<style scoped>\n",
       "    .dataframe tbody tr th:only-of-type {\n",
       "        vertical-align: middle;\n",
       "    }\n",
       "\n",
       "    .dataframe tbody tr th {\n",
       "        vertical-align: top;\n",
       "    }\n",
       "\n",
       "    .dataframe thead th {\n",
       "        text-align: right;\n",
       "    }\n",
       "</style>\n",
       "<table border=\"1\" class=\"dataframe\">\n",
       "  <thead>\n",
       "    <tr style=\"text-align: right;\">\n",
       "      <th></th>\n",
       "      <th>SPX</th>\n",
       "      <th>GLD</th>\n",
       "      <th>USO</th>\n",
       "      <th>SLV</th>\n",
       "      <th>EUR/USD</th>\n",
       "    </tr>\n",
       "  </thead>\n",
       "  <tbody>\n",
       "    <tr>\n",
       "      <th>count</th>\n",
       "      <td>2290.000000</td>\n",
       "      <td>2290.000000</td>\n",
       "      <td>2290.000000</td>\n",
       "      <td>2290.000000</td>\n",
       "      <td>2290.000000</td>\n",
       "    </tr>\n",
       "    <tr>\n",
       "      <th>mean</th>\n",
       "      <td>1654.315776</td>\n",
       "      <td>122.732875</td>\n",
       "      <td>31.842221</td>\n",
       "      <td>20.084997</td>\n",
       "      <td>1.283653</td>\n",
       "    </tr>\n",
       "    <tr>\n",
       "      <th>std</th>\n",
       "      <td>519.111540</td>\n",
       "      <td>23.283346</td>\n",
       "      <td>19.523517</td>\n",
       "      <td>7.092566</td>\n",
       "      <td>0.131547</td>\n",
       "    </tr>\n",
       "    <tr>\n",
       "      <th>min</th>\n",
       "      <td>676.530029</td>\n",
       "      <td>70.000000</td>\n",
       "      <td>7.960000</td>\n",
       "      <td>8.850000</td>\n",
       "      <td>1.039047</td>\n",
       "    </tr>\n",
       "    <tr>\n",
       "      <th>25%</th>\n",
       "      <td>1239.874969</td>\n",
       "      <td>109.725000</td>\n",
       "      <td>14.380000</td>\n",
       "      <td>15.570000</td>\n",
       "      <td>1.171313</td>\n",
       "    </tr>\n",
       "    <tr>\n",
       "      <th>50%</th>\n",
       "      <td>1551.434998</td>\n",
       "      <td>120.580002</td>\n",
       "      <td>33.869999</td>\n",
       "      <td>17.268500</td>\n",
       "      <td>1.303297</td>\n",
       "    </tr>\n",
       "    <tr>\n",
       "      <th>75%</th>\n",
       "      <td>2073.010070</td>\n",
       "      <td>132.840004</td>\n",
       "      <td>37.827501</td>\n",
       "      <td>22.882500</td>\n",
       "      <td>1.369971</td>\n",
       "    </tr>\n",
       "    <tr>\n",
       "      <th>max</th>\n",
       "      <td>2872.870117</td>\n",
       "      <td>184.589996</td>\n",
       "      <td>117.480003</td>\n",
       "      <td>47.259998</td>\n",
       "      <td>1.598798</td>\n",
       "    </tr>\n",
       "  </tbody>\n",
       "</table>\n",
       "</div>"
      ],
      "text/plain": [
       "               SPX          GLD          USO          SLV      EUR/USD\n",
       "count  2290.000000  2290.000000  2290.000000  2290.000000  2290.000000\n",
       "mean   1654.315776   122.732875    31.842221    20.084997     1.283653\n",
       "std     519.111540    23.283346    19.523517     7.092566     0.131547\n",
       "min     676.530029    70.000000     7.960000     8.850000     1.039047\n",
       "25%    1239.874969   109.725000    14.380000    15.570000     1.171313\n",
       "50%    1551.434998   120.580002    33.869999    17.268500     1.303297\n",
       "75%    2073.010070   132.840004    37.827501    22.882500     1.369971\n",
       "max    2872.870117   184.589996   117.480003    47.259998     1.598798"
      ]
     },
     "execution_count": 6,
     "metadata": {},
     "output_type": "execute_result"
    }
   ],
   "source": [
    "data.describe()"
   ]
  },
  {
   "cell_type": "code",
   "execution_count": 7,
   "id": "c3fd110f",
   "metadata": {},
   "outputs": [
    {
     "data": {
      "text/plain": [
       "Date       0\n",
       "SPX        0\n",
       "GLD        0\n",
       "USO        0\n",
       "SLV        0\n",
       "EUR/USD    0\n",
       "dtype: int64"
      ]
     },
     "execution_count": 7,
     "metadata": {},
     "output_type": "execute_result"
    }
   ],
   "source": [
    "data.isnull().sum()"
   ]
  },
  {
   "cell_type": "code",
   "execution_count": 8,
   "id": "ba9aa3d9",
   "metadata": {},
   "outputs": [
    {
     "data": {
      "text/plain": [
       "array([[<AxesSubplot:title={'center':'SPX'}>,\n",
       "        <AxesSubplot:title={'center':'GLD'}>],\n",
       "       [<AxesSubplot:title={'center':'USO'}>,\n",
       "        <AxesSubplot:title={'center':'SLV'}>],\n",
       "       [<AxesSubplot:title={'center':'EUR/USD'}>, <AxesSubplot:>]],\n",
       "      dtype=object)"
      ]
     },
     "execution_count": 8,
     "metadata": {},
     "output_type": "execute_result"
    },
    {
     "data": {
      "image/png": "[encoded data removed]",
      "text/plain": [
       "<Figure size 864x720 with 6 Axes>"
      ]
     },
     "metadata": {
      "needs_background": "light"
     },
     "output_type": "display_data"
    }
   ],
   "source": [
    "import matplotlib.pyplot as plt\n",
    "data.hist(figsize=(12,10))"
   ]
  },
  {
   "cell_type": "code",
   "execution_count": 9,
   "id": "a4c85ec2",
   "metadata": {},
   "outputs": [],
   "source": [
    "# change date colum to date time create year column\n",
    "data['Date']= pd.to_datetime(data['Date'])\n",
    "data['year']= pd.DatetimeIndex(data[\"Date\"]).year\n"
   ]
  },
  {
   "cell_type": "code",
   "execution_count": 10,
   "id": "bb9cd598",
   "metadata": {},
   "outputs": [
    {
     "data": {
      "text/html": [
       "<div>\n",
       "<style scoped>\n",
       "    .dataframe tbody tr th:only-of-type {\n",
       "        vertical-align: middle;\n",
       "    }\n",
       "\n",
       "    .dataframe tbody tr th {\n",
       "        vertical-align: top;\n",
       "    }\n",
       "\n",
       "    .dataframe thead th {\n",
       "        text-align: right;\n",
       "    }\n",
       "</style>\n",
       "<table border=\"1\" class=\"dataframe\">\n",
       "  <thead>\n",
       "    <tr style=\"text-align: right;\">\n",
       "      <th></th>\n",
       "      <th>Date</th>\n",
       "      <th>SPX</th>\n",
       "      <th>GLD</th>\n",
       "      <th>USO</th>\n",
       "      <th>SLV</th>\n",
       "      <th>EUR/USD</th>\n",
       "      <th>year</th>\n",
       "    </tr>\n",
       "  </thead>\n",
       "  <tbody>\n",
       "    <tr>\n",
       "      <th>0</th>\n",
       "      <td>2008-01-02</td>\n",
       "      <td>1447.160034</td>\n",
       "      <td>84.860001</td>\n",
       "      <td>78.470001</td>\n",
       "      <td>15.180</td>\n",
       "      <td>1.471692</td>\n",
       "      <td>2008</td>\n",
       "    </tr>\n",
       "    <tr>\n",
       "      <th>1</th>\n",
       "      <td>2008-01-03</td>\n",
       "      <td>1447.160034</td>\n",
       "      <td>85.570000</td>\n",
       "      <td>78.370003</td>\n",
       "      <td>15.285</td>\n",
       "      <td>1.474491</td>\n",
       "      <td>2008</td>\n",
       "    </tr>\n",
       "    <tr>\n",
       "      <th>2</th>\n",
       "      <td>2008-01-04</td>\n",
       "      <td>1411.630005</td>\n",
       "      <td>85.129997</td>\n",
       "      <td>77.309998</td>\n",
       "      <td>15.167</td>\n",
       "      <td>1.475492</td>\n",
       "      <td>2008</td>\n",
       "    </tr>\n",
       "    <tr>\n",
       "      <th>3</th>\n",
       "      <td>2008-01-07</td>\n",
       "      <td>1416.180054</td>\n",
       "      <td>84.769997</td>\n",
       "      <td>75.500000</td>\n",
       "      <td>15.053</td>\n",
       "      <td>1.468299</td>\n",
       "      <td>2008</td>\n",
       "    </tr>\n",
       "    <tr>\n",
       "      <th>4</th>\n",
       "      <td>2008-01-08</td>\n",
       "      <td>1390.189941</td>\n",
       "      <td>86.779999</td>\n",
       "      <td>76.059998</td>\n",
       "      <td>15.590</td>\n",
       "      <td>1.557099</td>\n",
       "      <td>2008</td>\n",
       "    </tr>\n",
       "  </tbody>\n",
       "</table>\n",
       "</div>"
      ],
      "text/plain": [
       "        Date          SPX        GLD        USO     SLV   EUR/USD  year\n",
       "0 2008-01-02  1447.160034  84.860001  78.470001  15.180  1.471692  2008\n",
       "1 2008-01-03  1447.160034  85.570000  78.370003  15.285  1.474491  2008\n",
       "2 2008-01-04  1411.630005  85.129997  77.309998  15.167  1.475492  2008\n",
       "3 2008-01-07  1416.180054  84.769997  75.500000  15.053  1.468299  2008\n",
       "4 2008-01-08  1390.189941  86.779999  76.059998  15.590  1.557099  2008"
      ]
     },
     "execution_count": 10,
     "metadata": {},
     "output_type": "execute_result"
    }
   ],
   "source": [
    "data.head()"
   ]
  },
  {
   "cell_type": "code",
   "execution_count": 11,
   "id": "b5d39149",
   "metadata": {},
   "outputs": [
    {
     "data": {
      "image/png": "[encoded data removed]",
      "text/plain": [
       "<Figure size 432x288 with 1 Axes>"
      ]
     },
     "metadata": {
      "needs_background": "light"
     },
     "output_type": "display_data"
    }
   ],
   "source": [
    "# plot max vs average yearly gold price\n",
    "\n",
    "data.groupby('year').max()['GLD'].plot(color='green' , label ='Max')\n",
    "data.groupby('year').mean()['GLD'].plot(color='blue' , label='Average')\n",
    "\n",
    "plt.ylabel('Gold Price')\n",
    "plt.legend()\n",
    "plt.title('Max vs Average yearly Gold price ')\n",
    "plt.grid()\n",
    "plt.show()"
   ]
  },
  {
   "cell_type": "markdown",
   "id": "40184580",
   "metadata": {},
   "source": [
    "We notice from the graph that gold prices peaked between 2011 to 2013 and from 2015 prices kept increasing gradually"
   ]
  },
  {
   "cell_type": "code",
   "execution_count": 12,
   "id": "780b8da4",
   "metadata": {},
   "outputs": [],
   "source": [
    "# plot correlation matrics"
   ]
  },
  {
   "cell_type": "code",
   "execution_count": 13,
   "id": "4be8155c",
   "metadata": {},
   "outputs": [
    {
     "data": {
      "text/plain": [
       "<AxesSubplot:>"
      ]
     },
     "execution_count": 13,
     "metadata": {},
     "output_type": "execute_result"
    },
    {
     "data": {
      "image/png": "[encoded data removed]",
      "text/plain": [
       "<Figure size 432x288 with 2 Axes>"
      ]
     },
     "metadata": {
      "needs_background": "light"
     },
     "output_type": "display_data"
    }
   ],
   "source": [
    "import seaborn as sns\n",
    "sns.heatmap(data.corr() , annot = True , cmap='Blues')"
   ]
  },
  {
   "cell_type": "markdown",
   "id": "b32191a8",
   "metadata": {},
   "source": [
    "Correlation Matrix shows Strong positive correlation between gold and silver"
   ]
  },
  {
   "cell_type": "code",
   "execution_count": 14,
   "id": "652a8dd9",
   "metadata": {},
   "outputs": [
    {
     "data": {
      "text/html": [
       "<div>\n",
       "<style scoped>\n",
       "    .dataframe tbody tr th:only-of-type {\n",
       "        vertical-align: middle;\n",
       "    }\n",
       "\n",
       "    .dataframe tbody tr th {\n",
       "        vertical-align: top;\n",
       "    }\n",
       "\n",
       "    .dataframe thead th {\n",
       "        text-align: right;\n",
       "    }\n",
       "</style>\n",
       "<table border=\"1\" class=\"dataframe\">\n",
       "  <thead>\n",
       "    <tr style=\"text-align: right;\">\n",
       "      <th></th>\n",
       "      <th>SPX</th>\n",
       "      <th>GLD</th>\n",
       "      <th>USO</th>\n",
       "      <th>SLV</th>\n",
       "      <th>EUR/USD</th>\n",
       "      <th>year</th>\n",
       "    </tr>\n",
       "  </thead>\n",
       "  <tbody>\n",
       "    <tr>\n",
       "      <th>SPX</th>\n",
       "      <td>1.000000</td>\n",
       "      <td>0.049345</td>\n",
       "      <td>-0.591573</td>\n",
       "      <td>-0.274055</td>\n",
       "      <td>-0.672017</td>\n",
       "      <td>0.944403</td>\n",
       "    </tr>\n",
       "    <tr>\n",
       "      <th>GLD</th>\n",
       "      <td>0.049345</td>\n",
       "      <td>1.000000</td>\n",
       "      <td>-0.186360</td>\n",
       "      <td>0.866632</td>\n",
       "      <td>-0.024375</td>\n",
       "      <td>0.206654</td>\n",
       "    </tr>\n",
       "    <tr>\n",
       "      <th>USO</th>\n",
       "      <td>-0.591573</td>\n",
       "      <td>-0.186360</td>\n",
       "      <td>1.000000</td>\n",
       "      <td>0.167547</td>\n",
       "      <td>0.829317</td>\n",
       "      <td>-0.775765</td>\n",
       "    </tr>\n",
       "    <tr>\n",
       "      <th>SLV</th>\n",
       "      <td>-0.274055</td>\n",
       "      <td>0.866632</td>\n",
       "      <td>0.167547</td>\n",
       "      <td>1.000000</td>\n",
       "      <td>0.321631</td>\n",
       "      <td>-0.172485</td>\n",
       "    </tr>\n",
       "    <tr>\n",
       "      <th>EUR/USD</th>\n",
       "      <td>-0.672017</td>\n",
       "      <td>-0.024375</td>\n",
       "      <td>0.829317</td>\n",
       "      <td>0.321631</td>\n",
       "      <td>1.000000</td>\n",
       "      <td>-0.791655</td>\n",
       "    </tr>\n",
       "    <tr>\n",
       "      <th>year</th>\n",
       "      <td>0.944403</td>\n",
       "      <td>0.206654</td>\n",
       "      <td>-0.775765</td>\n",
       "      <td>-0.172485</td>\n",
       "      <td>-0.791655</td>\n",
       "      <td>1.000000</td>\n",
       "    </tr>\n",
       "  </tbody>\n",
       "</table>\n",
       "</div>"
      ],
      "text/plain": [
       "              SPX       GLD       USO       SLV   EUR/USD      year\n",
       "SPX      1.000000  0.049345 -0.591573 -0.274055 -0.672017  0.944403\n",
       "GLD      0.049345  1.000000 -0.186360  0.866632 -0.024375  0.206654\n",
       "USO     -0.591573 -0.186360  1.000000  0.167547  0.829317 -0.775765\n",
       "SLV     -0.274055  0.866632  0.167547  1.000000  0.321631 -0.172485\n",
       "EUR/USD -0.672017 -0.024375  0.829317  0.321631  1.000000 -0.791655\n",
       "year     0.944403  0.206654 -0.775765 -0.172485 -0.791655  1.000000"
      ]
     },
     "execution_count": 14,
     "metadata": {},
     "output_type": "execute_result"
    }
   ],
   "source": [
    "\n",
    "corr= data.corr()\n",
    "corr"
   ]
  },
  {
   "cell_type": "code",
   "execution_count": 15,
   "id": "90b3d0f4",
   "metadata": {},
   "outputs": [
    {
     "data": {
      "text/plain": [
       "GLD        1.000000\n",
       "SLV        0.866632\n",
       "year       0.206654\n",
       "SPX        0.049345\n",
       "EUR/USD   -0.024375\n",
       "USO       -0.186360\n",
       "Name: GLD, dtype: float64"
      ]
     },
     "execution_count": 15,
     "metadata": {},
     "output_type": "execute_result"
    }
   ],
   "source": [
    "# Gold coorelation with other feature \n",
    "\n",
    "\n",
    "corr['GLD'].sort_values(ascending=False)"
   ]
  },
  {
   "cell_type": "code",
   "execution_count": 16,
   "id": "abff6278",
   "metadata": {},
   "outputs": [
    {
     "name": "stderr",
     "output_type": "stream",
     "text": [
      "C:\\Users\\User\\anaconda3\\lib\\site-packages\\seaborn\\distributions.py:2557: FutureWarning: `distplot` is a deprecated function and will be removed in a future version. Please adapt your code to use either `displot` (a figure-level function with similar flexibility) or `histplot` (an axes-level function for histograms).\n",
      "  warnings.warn(msg, FutureWarning)\n"
     ]
    },
    {
     "data": {
      "text/plain": [
       "<AxesSubplot:xlabel='GLD', ylabel='Density'>"
      ]
     },
     "execution_count": 16,
     "metadata": {},
     "output_type": "execute_result"
    },
    {
     "data": {
      "image/png": "[encoded data removed]",
      "text/plain": [
       "<Figure size 432x288 with 1 Axes>"
      ]
     },
     "metadata": {},
     "output_type": "display_data"
    }
   ],
   "source": [
    "# plot gold distplot\n",
    "\n",
    "sns.set_theme(style='whitegrid')\n",
    "sns.distplot(data[\"GLD\"] , color='blue')"
   ]
  },
  {
   "cell_type": "markdown",
   "id": "d5c65966",
   "metadata": {},
   "source": [
    "Create machine learning Model that takes (SLV, SPX, EUR/UDS, USO) features and predict Gold price"
   ]
  },
  {
   "cell_type": "code",
   "execution_count": 17,
   "id": "b579fa09",
   "metadata": {},
   "outputs": [],
   "source": [
    "x=data.drop(['Date','year', 'GLD'] ,axis=1)\n",
    "y= data[['GLD']]"
   ]
  },
  {
   "cell_type": "code",
   "execution_count": 18,
   "id": "8e6cb62c",
   "metadata": {},
   "outputs": [
    {
     "name": "stdout",
     "output_type": "stream",
     "text": [
      "           SPX        USO     SLV   EUR/USD\n",
      "0  1447.160034  78.470001  15.180  1.471692\n",
      "1  1447.160034  78.370003  15.285  1.474491\n",
      "2  1411.630005  77.309998  15.167  1.475492\n",
      "3  1416.180054  75.500000  15.053  1.468299\n",
      "4  1390.189941  76.059998  15.590  1.557099\n",
      "-----------------------------------------------------------------------------------------------\n",
      "         GLD\n",
      "0  84.860001\n",
      "1  85.570000\n",
      "2  85.129997\n",
      "3  84.769997\n",
      "4  86.779999\n"
     ]
    }
   ],
   "source": [
    "print(x.head())\n",
    "print('-------------------'*5)\n",
    "print(y.head())"
   ]
  },
  {
   "cell_type": "code",
   "execution_count": 19,
   "id": "50e16602",
   "metadata": {},
   "outputs": [],
   "source": [
    "## split data set\n",
    "from sklearn.model_selection import train_test_split\n",
    "\n",
    "x_train, x_test , y_train ,y_test = train_test_split(x,y ,test_size= 0.2 , random_state= 0)\n"
   ]
  },
  {
   "cell_type": "code",
   "execution_count": 20,
   "id": "f39a9d43",
   "metadata": {},
   "outputs": [
    {
     "data": {
      "text/plain": [
       "((1832, 4), (1832, 1), (458, 4), (458, 1))"
      ]
     },
     "execution_count": 20,
     "metadata": {},
     "output_type": "execute_result"
    }
   ],
   "source": [
    "x_train.shape, y_train.shape, x_test.shape, y_test.shape "
   ]
  },
  {
   "cell_type": "code",
   "execution_count": 21,
   "id": "a79243f9",
   "metadata": {},
   "outputs": [
    {
     "name": "stderr",
     "output_type": "stream",
     "text": [
      "<ipython-input-21-a8a0435233fc>:5: DataConversionWarning: A column-vector y was passed when a 1d array was expected. Please change the shape of y to (n_samples,), for example using ravel().\n",
      "  model.fit(x_train, y_train)\n"
     ]
    },
    {
     "data": {
      "text/plain": [
       "RandomForestRegressor()"
      ]
     },
     "execution_count": 21,
     "metadata": {},
     "output_type": "execute_result"
    }
   ],
   "source": [
    "from sklearn.ensemble import RandomForestRegressor\n",
    "\n",
    "model = RandomForestRegressor(n_estimators=100)\n",
    "# fit model \n",
    "model.fit(x_train, y_train)\n"
   ]
  },
  {
   "cell_type": "code",
   "execution_count": 22,
   "id": "f96442c3",
   "metadata": {},
   "outputs": [
    {
     "data": {
      "text/plain": [
       "array([127.20779835, 116.86549952, 139.88460045, 121.97209989,\n",
       "        94.09020033, 155.00170125, 117.49470125, 113.34890124,\n",
       "       153.09899997, 105.57510048, 103.27599916, 120.28120093,\n",
       "        92.03779944, 159.25430058, 121.54659847, 117.461801  ,\n",
       "        86.6160982 ,  91.73279923,  93.00379988, 125.60490002,\n",
       "        83.38869928, 117.74089901, 126.51589831, 173.2112974 ,\n",
       "       169.98629711, 140.49420231, 114.36889938, 160.03730189,\n",
       "       134.01220083, 115.58390052, 111.23800076, 105.05630177,\n",
       "       128.21720084, 122.05389993,  98.75239958, 120.04129981,\n",
       "        84.54260011, 114.99280009, 127.39289902, 140.17659864,\n",
       "       107.33400088, 131.63260095, 108.50509928, 136.73920091,\n",
       "       133.85269925, 149.64929877, 119.55300039, 156.11120029,\n",
       "       154.99980208, 127.55309975, 123.66980026, 115.40409842,\n",
       "       124.05850028, 118.98129975, 153.72510016, 121.52729933,\n",
       "       112.42590061,  86.91409949, 155.54769965, 118.12430086,\n",
       "        88.1792994 , 114.69919992,  83.56959929, 146.61799804,\n",
       "       125.33920002, 127.3551987 , 125.14529964, 121.09750008,\n",
       "       168.16650178, 121.67099932, 125.75790167, 173.21699816,\n",
       "       121.45750068, 169.2311012 , 119.09660054, 127.30619962,\n",
       "       153.78189923, 109.13549748, 114.58619928, 159.70979816,\n",
       "       119.88420094, 125.53909822, 117.41299938, 123.08900032,\n",
       "       112.1393003 , 161.01780014, 114.53029967, 113.59089955,\n",
       "       125.49979808,  96.04099984, 113.6932    , 114.09560164,\n",
       "        80.64609929, 159.76469923, 125.70950025, 119.04790138,\n",
       "        92.0384998 , 104.46490187, 144.70150233,  92.48099829,\n",
       "       155.95000365, 121.83059996, 123.84249956, 115.18559913,\n",
       "        87.82130073, 130.13440066, 125.23890031, 167.4941015 ,\n",
       "       108.9532005 , 166.8610997 , 104.02379957, 138.53879848,\n",
       "       115.47650139, 119.89430088,  93.64649973, 166.60590138,\n",
       "       113.25250024, 109.10519921,  82.22710021, 109.95579963,\n",
       "       155.56460181,  90.7074997 ,  75.15550043, 121.72559999,\n",
       "       102.88060005, 117.32249904, 121.56999957, 134.49210092,\n",
       "       119.73550007, 105.9714996 , 107.05209908, 113.3536993 ,\n",
       "        93.06969974, 122.68359884, 118.67470002, 112.27990095,\n",
       "        73.62979999, 126.65290038,  82.51729958, 115.34719945,\n",
       "       117.02219921, 153.24560348, 139.38779962, 114.38840002,\n",
       "       166.11820201, 130.73900041, 124.7771004 , 118.7746008 ,\n",
       "       124.45313721, 121.95220039, 161.40099923, 107.1464006 ,\n",
       "       117.10999934,  87.33119902, 124.20760092, 112.19369978,\n",
       "        85.37819901, 113.0114995 , 117.30660021,  86.39449954,\n",
       "       132.02279921, 145.96169982, 135.60370396, 115.68979998,\n",
       "       128.03730049, 118.61120049,  99.11350095, 117.12520136,\n",
       "       114.54110129, 118.43189884, 155.69280152, 122.18439917,\n",
       "        90.22900027, 120.94570029, 105.2115997 , 121.65817636,\n",
       "       105.7451991 , 107.04360111, 120.83579896, 125.12270056,\n",
       "        88.37039885, 172.81199914, 120.64970124, 118.53690136,\n",
       "       163.79009865, 120.06390216, 110.76799932, 128.46609988,\n",
       "       131.97160068, 120.28439918, 118.39140048, 140.5652027 ,\n",
       "       148.86589985, 117.06679979, 156.23510388, 136.15450099,\n",
       "       124.73119956, 124.83949852, 179.57619695, 119.88360198,\n",
       "       163.20920431, 104.30850125, 132.08000094,  92.85409935,\n",
       "        97.32689843,  90.38000065, 106.10870094, 112.64939987,\n",
       "       162.83909969, 160.85369944, 152.44550367, 113.16670116,\n",
       "       117.04220159, 119.07450178, 119.99140024,  91.78860139,\n",
       "       102.23110001, 154.9887994 , 108.70809836, 102.65459934,\n",
       "       154.94430039,  76.12379988, 120.61320092, 168.52809724,\n",
       "       115.85979912, 144.3942009 , 154.92120099, 140.18419959,\n",
       "       154.48419901, 131.2777033 , 130.51659902, 123.98710017,\n",
       "       116.11730135, 135.23829789, 163.48349984, 153.8793011 ,\n",
       "       126.97620084, 160.83179909, 130.09620005, 108.61169855,\n",
       "       167.09809982, 117.79749814,  84.81189916, 163.50820291,\n",
       "       153.2175003 , 116.18310166, 129.66430047,  92.15299898,\n",
       "        91.03040122, 113.41179944,  88.20340031, 115.34379904,\n",
       "       119.36970073, 153.46389941, 117.02049851, 107.06250112,\n",
       "       117.2594994 , 140.09339892, 111.17340006, 122.41939939,\n",
       "        83.6000991 , 125.17299989, 125.83010074, 168.35540059,\n",
       "       127.04629895, 142.98329764, 117.29660159, 167.94050055,\n",
       "       106.74769899, 174.08340046, 109.59869842, 114.78920151,\n",
       "        88.41579912, 125.50430005, 117.52899988, 153.26890231,\n",
       "       161.73879985,  80.56379926, 104.97479983, 110.51159939,\n",
       "       110.78259889, 108.14889978, 117.68630065,  89.56389967,\n",
       "        88.05469899,  85.07690022, 137.27399792, 127.29950029,\n",
       "       119.84510129,  96.07910044, 109.18369848,  78.68839963,\n",
       "        72.68680196, 119.20640072, 118.25190058,  89.53889951,\n",
       "       111.369701  , 117.20379941, 118.25650117, 124.3290003 ,\n",
       "       148.0635988 ,  87.94899956, 129.61929802, 117.54130078,\n",
       "       154.70950225, 107.90049864, 144.67230237, 124.70659924,\n",
       "       116.12100018, 113.85629853, 125.27350011, 135.4720004 ,\n",
       "       140.93809892, 117.13140025, 128.09419875,  93.56979862,\n",
       "       114.36989955,  89.86439947,  89.28810107, 106.56470061,\n",
       "       132.1477022 , 152.85929824, 161.54670223, 118.6877004 ,\n",
       "       103.61470022, 100.41950089, 150.48339783, 152.37929787,\n",
       "       106.52750102, 137.2662012 , 118.48149933, 126.61059779,\n",
       "        87.84180097, 174.17419931, 117.47919825, 138.87040294,\n",
       "       114.92510002,  86.47500008, 120.98199994, 136.01060101,\n",
       "       117.37309999, 140.01799903, 118.91680044, 165.07270098,\n",
       "       121.30710043, 123.25659843, 120.98029859, 126.8842012 ,\n",
       "        88.16260046, 145.91130259, 113.95810021, 111.21299985,\n",
       "       113.59840077, 155.57320222,  93.18430115,  92.53770004,\n",
       "       119.68690073, 156.22490211, 119.06860092, 155.67700308,\n",
       "       126.41550078, 161.38629777, 123.86359983, 131.65780085,\n",
       "       123.42389983,  74.07580017,  94.35069996,  89.87860012,\n",
       "       120.95550107, 113.56370059, 117.63769992, 108.47909996,\n",
       "       126.14090003, 126.33690192, 122.53690014, 120.59719984,\n",
       "       104.2547992 , 109.6201984 , 110.30130128, 148.9457045 ,\n",
       "       126.09729853, 154.43340114, 125.80360128, 142.83300032,\n",
       "       141.01550032, 108.32859874, 109.69069824, 128.57850259,\n",
       "       107.36029902, 116.55309967, 120.36120106, 144.42250079,\n",
       "        93.64039929, 104.22939994, 128.38090112, 124.91159963,\n",
       "       162.97429943, 121.33160052, 148.77040456, 110.97709909,\n",
       "       125.19030031,  89.01840007,  80.68259921, 127.31159845,\n",
       "       126.01620076, 149.7925028 , 119.93179858, 127.66459777,\n",
       "        86.69099941, 125.04229954, 118.4261997 , 115.54009855,\n",
       "       102.03889893, 121.7290008 ,  93.51619873, 102.76029899,\n",
       "       123.7868991 , 114.95910012, 126.57530086,  90.11699985,\n",
       "       119.87440116, 108.88599894, 120.71140007, 131.49140178,\n",
       "        87.18079907, 123.38889958, 101.89889976,  99.16900129,\n",
       "       102.82749974,  89.21699989, 120.93120095, 123.89899995,\n",
       "       170.64519839, 125.92589951,  95.70860121, 160.57420459,\n",
       "       108.50349898,  96.7247992 , 131.77519973, 113.50870034,\n",
       "        87.33299883, 167.92539934,  89.54750004,  90.53729938,\n",
       "       167.00479664, 159.82280302, 166.0207018 , 168.78659604,\n",
       "       125.70799824, 127.42479914, 122.28119987,  91.32699945,\n",
       "       121.08139974, 120.14040087, 129.06699791, 159.94939976,\n",
       "       117.02280004, 108.6177995 ])"
      ]
     },
     "execution_count": 22,
     "metadata": {},
     "output_type": "execute_result"
    }
   ],
   "source": [
    "y_preds= model.predict(x_test)\n",
    "y_preds"
   ]
  },
  {
   "cell_type": "code",
   "execution_count": 23,
   "id": "be9d4ba5",
   "metadata": {},
   "outputs": [
    {
     "name": "stdout",
     "output_type": "stream",
     "text": [
      "Mean Squared Error = 5.2483503601408525\n",
      "Mean Absolute Error = 1.3027571782314433\n",
      "R-Squared error = 0.9897981208198771\n"
     ]
    }
   ],
   "source": [
    "from sklearn import metrics\n",
    "\n",
    "MSE= metrics.mean_squared_error(y_test,y_preds)\n",
    "MAE= metrics.mean_absolute_error(y_test,y_preds)\n",
    "r2= metrics.r2_score(y_test, y_preds)\n",
    "print (f'Mean Squared Error = {MSE}')\n",
    "print (f'Mean Absolute Error = {MAE}')\n",
    "print (f'R-Squared error = {r2}')"
   ]
  },
  {
   "cell_type": "markdown",
   "id": "40f79019",
   "metadata": {},
   "source": [
    "y_test = list(y_test)\n",
    "plt.figure(figsize=(12, 8))\n",
    "plt.plot(y_test, color = 'orange', label = 'True Value')\n",
    "plt.plot(y_preds, color = 'blue', label = 'Predicted Value')\n",
    "plt.legend()\n",
    "plt.xlabel('Values')\n",
    "plt.ylabel('Gold price')\n",
    "plt.title('True VS Predicted Values')\n",
    "plt.grid()\n",
    "plt.show();"
   ]
  }
 ],
 "metadata": {
  "kernelspec": {
   "display_name": "Python 3",
   "language": "python",
   "name": "python3"
  },
  "language_info": {
   "codemirror_mode": {
    "name": "ipython",
    "version": 3
   },
   "file_extension": ".py",
   "mimetype": "text/x-python",
   "name": "python",
   "nbconvert_exporter": "python",
   "pygments_lexer": "ipython3",
   "version": "3.8.8"
  }
 },
 "nbformat": 4,
 "nbformat_minor": 5
}
